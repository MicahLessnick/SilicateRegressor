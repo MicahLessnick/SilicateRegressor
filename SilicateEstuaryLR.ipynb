{
  "nbformat": 4,
  "nbformat_minor": 0,
  "metadata": {
    "colab": {
      "name": "SilicateEstuaryLR.ipynb",
      "provenance": [],
      "authorship_tag": "ABX9TyPIqA2W7aasoHQ1wih008VX",
      "include_colab_link": true
    },
    "kernelspec": {
      "name": "python3",
      "display_name": "Python 3"
    },
    "language_info": {
      "name": "python"
    }
  },
  "cells": [
    {
      "cell_type": "markdown",
      "metadata": {
        "id": "view-in-github",
        "colab_type": "text"
      },
      "source": [
        "<a href=\"https://colab.research.google.com/github/MicahLessnick/SilicateRegressor/blob/main/SilicateEstuaryLR.ipynb\" target=\"_parent\"><img src=\"https://colab.research.google.com/assets/colab-badge.svg\" alt=\"Open In Colab\"/></a>"
      ]
    },
    {
      "cell_type": "markdown",
      "metadata": {
        "id": "D6Wn0i2Q3J3W"
      },
      "source": [
        "Written by Micah Lessnick\n",
        "\n",
        "Logistic regressor to classify sampling location based on measured Si values"
      ]
    },
    {
      "cell_type": "markdown",
      "metadata": {
        "id": "xs593Vyo38if"
      },
      "source": [
        "Mount code to google drive"
      ]
    },
    {
      "cell_type": "code",
      "metadata": {
        "colab": {
          "base_uri": "https://localhost:8080/"
        },
        "id": "e28riDgB3I77",
        "outputId": "bef129b2-6a4b-4080-fe6d-65d22424aae2"
      },
      "source": [
        "from google.colab import drive\n",
        "drive.mount('/content/gdrive')"
      ],
      "execution_count": null,
      "outputs": [
        {
          "output_type": "stream",
          "name": "stdout",
          "text": [
            "Drive already mounted at /content/gdrive; to attempt to forcibly remount, call drive.mount(\"/content/gdrive\", force_remount=True).\n"
          ]
        }
      ]
    },
    {
      "cell_type": "markdown",
      "metadata": {
        "id": "16S5wQ6F4HGR"
      },
      "source": [
        "Import packages"
      ]
    },
    {
      "cell_type": "code",
      "metadata": {
        "id": "8X3MYSv94Oti"
      },
      "source": [
        "import matplotlib.pyplot as plt\n",
        "import numpy as np\n",
        "import pandas as pd\n",
        "import sklearn.datasets\n",
        "import sklearn.metrics\n",
        "from sklearn.model_selection import train_test_split\n",
        "from sklearn.preprocessing import StandardScaler\n",
        "import tensorflow as tf\n",
        "from tensorflow import keras\n",
        "from sklearn.linear_model import LogisticRegression"
      ],
      "execution_count": null,
      "outputs": []
    },
    {
      "cell_type": "markdown",
      "metadata": {
        "id": "kKeSycxT4Vzl"
      },
      "source": [
        "Import dataset"
      ]
    },
    {
      "cell_type": "code",
      "metadata": {
        "colab": {
          "base_uri": "https://localhost:8080/",
          "height": 417
        },
        "id": "5tZTb92d4XNj",
        "outputId": "fa103713-5cc1-4316-f340-1aee68b3296d"
      },
      "source": [
        "whole_df = pd.read_csv('/content/gdrive/MyDrive/CPO/SiDataFull.csv')\n",
        "whole_df"
      ],
      "execution_count": null,
      "outputs": [
        {
          "output_type": "execute_result",
          "data": {
            "text/html": [
              "<div>\n",
              "<style scoped>\n",
              "    .dataframe tbody tr th:only-of-type {\n",
              "        vertical-align: middle;\n",
              "    }\n",
              "\n",
              "    .dataframe tbody tr th {\n",
              "        vertical-align: top;\n",
              "    }\n",
              "\n",
              "    .dataframe thead th {\n",
              "        text-align: right;\n",
              "    }\n",
              "</style>\n",
              "<table border=\"1\" class=\"dataframe\">\n",
              "  <thead>\n",
              "    <tr style=\"text-align: right;\">\n",
              "      <th></th>\n",
              "      <th>Si</th>\n",
              "      <th>Class</th>\n",
              "    </tr>\n",
              "  </thead>\n",
              "  <tbody>\n",
              "    <tr>\n",
              "      <th>0</th>\n",
              "      <td>-0.587201</td>\n",
              "      <td>1</td>\n",
              "    </tr>\n",
              "    <tr>\n",
              "      <th>1</th>\n",
              "      <td>-0.587201</td>\n",
              "      <td>1</td>\n",
              "    </tr>\n",
              "    <tr>\n",
              "      <th>2</th>\n",
              "      <td>-0.587201</td>\n",
              "      <td>1</td>\n",
              "    </tr>\n",
              "    <tr>\n",
              "      <th>3</th>\n",
              "      <td>-0.587201</td>\n",
              "      <td>1</td>\n",
              "    </tr>\n",
              "    <tr>\n",
              "      <th>4</th>\n",
              "      <td>-0.587201</td>\n",
              "      <td>1</td>\n",
              "    </tr>\n",
              "    <tr>\n",
              "      <th>...</th>\n",
              "      <td>...</td>\n",
              "      <td>...</td>\n",
              "    </tr>\n",
              "    <tr>\n",
              "      <th>24146</th>\n",
              "      <td>-0.829621</td>\n",
              "      <td>2</td>\n",
              "    </tr>\n",
              "    <tr>\n",
              "      <th>24147</th>\n",
              "      <td>-0.829739</td>\n",
              "      <td>2</td>\n",
              "    </tr>\n",
              "    <tr>\n",
              "      <th>24148</th>\n",
              "      <td>-0.829798</td>\n",
              "      <td>2</td>\n",
              "    </tr>\n",
              "    <tr>\n",
              "      <th>24149</th>\n",
              "      <td>-0.829798</td>\n",
              "      <td>2</td>\n",
              "    </tr>\n",
              "    <tr>\n",
              "      <th>24150</th>\n",
              "      <td>-0.830094</td>\n",
              "      <td>2</td>\n",
              "    </tr>\n",
              "  </tbody>\n",
              "</table>\n",
              "<p>24151 rows × 2 columns</p>\n",
              "</div>"
            ],
            "text/plain": [
              "             Si  Class\n",
              "0     -0.587201      1\n",
              "1     -0.587201      1\n",
              "2     -0.587201      1\n",
              "3     -0.587201      1\n",
              "4     -0.587201      1\n",
              "...         ...    ...\n",
              "24146 -0.829621      2\n",
              "24147 -0.829739      2\n",
              "24148 -0.829798      2\n",
              "24149 -0.829798      2\n",
              "24150 -0.830094      2\n",
              "\n",
              "[24151 rows x 2 columns]"
            ]
          },
          "metadata": {},
          "execution_count": 4
        }
      ]
    },
    {
      "cell_type": "markdown",
      "metadata": {
        "id": "D3F4ozQb42GV"
      },
      "source": [
        "Separate label from data"
      ]
    },
    {
      "cell_type": "code",
      "metadata": {
        "colab": {
          "base_uri": "https://localhost:8080/",
          "height": 417
        },
        "id": "m2FNXzf55B68",
        "outputId": "1429be61-fc9c-4e06-a58d-0083559affe2"
      },
      "source": [
        "whole_target_df = whole_df.drop('Si', axis=1)\n",
        "whole_target_df #df holding all class labels\n",
        "\n",
        "whole_data_df = whole_df.drop('Class', axis=1)\n",
        "whole_data_df #df holding only raw data values"
      ],
      "execution_count": null,
      "outputs": [
        {
          "output_type": "execute_result",
          "data": {
            "text/html": [
              "<div>\n",
              "<style scoped>\n",
              "    .dataframe tbody tr th:only-of-type {\n",
              "        vertical-align: middle;\n",
              "    }\n",
              "\n",
              "    .dataframe tbody tr th {\n",
              "        vertical-align: top;\n",
              "    }\n",
              "\n",
              "    .dataframe thead th {\n",
              "        text-align: right;\n",
              "    }\n",
              "</style>\n",
              "<table border=\"1\" class=\"dataframe\">\n",
              "  <thead>\n",
              "    <tr style=\"text-align: right;\">\n",
              "      <th></th>\n",
              "      <th>Si</th>\n",
              "    </tr>\n",
              "  </thead>\n",
              "  <tbody>\n",
              "    <tr>\n",
              "      <th>0</th>\n",
              "      <td>-0.587201</td>\n",
              "    </tr>\n",
              "    <tr>\n",
              "      <th>1</th>\n",
              "      <td>-0.587201</td>\n",
              "    </tr>\n",
              "    <tr>\n",
              "      <th>2</th>\n",
              "      <td>-0.587201</td>\n",
              "    </tr>\n",
              "    <tr>\n",
              "      <th>3</th>\n",
              "      <td>-0.587201</td>\n",
              "    </tr>\n",
              "    <tr>\n",
              "      <th>4</th>\n",
              "      <td>-0.587201</td>\n",
              "    </tr>\n",
              "    <tr>\n",
              "      <th>...</th>\n",
              "      <td>...</td>\n",
              "    </tr>\n",
              "    <tr>\n",
              "      <th>24146</th>\n",
              "      <td>-0.829621</td>\n",
              "    </tr>\n",
              "    <tr>\n",
              "      <th>24147</th>\n",
              "      <td>-0.829739</td>\n",
              "    </tr>\n",
              "    <tr>\n",
              "      <th>24148</th>\n",
              "      <td>-0.829798</td>\n",
              "    </tr>\n",
              "    <tr>\n",
              "      <th>24149</th>\n",
              "      <td>-0.829798</td>\n",
              "    </tr>\n",
              "    <tr>\n",
              "      <th>24150</th>\n",
              "      <td>-0.830094</td>\n",
              "    </tr>\n",
              "  </tbody>\n",
              "</table>\n",
              "<p>24151 rows × 1 columns</p>\n",
              "</div>"
            ],
            "text/plain": [
              "             Si\n",
              "0     -0.587201\n",
              "1     -0.587201\n",
              "2     -0.587201\n",
              "3     -0.587201\n",
              "4     -0.587201\n",
              "...         ...\n",
              "24146 -0.829621\n",
              "24147 -0.829739\n",
              "24148 -0.829798\n",
              "24149 -0.829798\n",
              "24150 -0.830094\n",
              "\n",
              "[24151 rows x 1 columns]"
            ]
          },
          "metadata": {},
          "execution_count": 5
        }
      ]
    },
    {
      "cell_type": "markdown",
      "metadata": {
        "id": "DNbmfEHC6Dks"
      },
      "source": [
        "Prep training and test sets"
      ]
    },
    {
      "cell_type": "code",
      "metadata": {
        "id": "vkaKI_PW6Gm1"
      },
      "source": [
        "train_data, test_data, train_target, test_target = train_test_split(\n",
        "    whole_data_df, whole_target_df, train_size=0.8, random_state=17\n",
        ") #split into 80% training, 20% testing set"
      ],
      "execution_count": null,
      "outputs": []
    },
    {
      "cell_type": "markdown",
      "metadata": {
        "id": "nNdwOwI-ondb"
      },
      "source": [
        "Reset random number seeds (ensures repeatable results)"
      ]
    },
    {
      "cell_type": "code",
      "metadata": {
        "id": "4TVcYNCMondi"
      },
      "source": [
        "np.random.seed(17)\n",
        "tf.random.set_seed(17)"
      ],
      "execution_count": null,
      "outputs": []
    },
    {
      "cell_type": "markdown",
      "metadata": {
        "id": "wYGhKcreuFq1"
      },
      "source": [
        "Build/run regressor"
      ]
    },
    {
      "cell_type": "code",
      "metadata": {
        "id": "PTcXZfuTuKRI",
        "colab": {
          "base_uri": "https://localhost:8080/"
        },
        "outputId": "a00d404c-a1c5-48e7-8160-aa10daa5708e"
      },
      "source": [
        "log_reg = LogisticRegression(solver=\"lbfgs\", random_state=17)\n",
        "log_reg.fit(train_data, train_target)"
      ],
      "execution_count": null,
      "outputs": [
        {
          "output_type": "stream",
          "name": "stderr",
          "text": [
            "/usr/local/lib/python3.7/dist-packages/sklearn/utils/validation.py:760: DataConversionWarning: A column-vector y was passed when a 1d array was expected. Please change the shape of y to (n_samples, ), for example using ravel().\n",
            "  y = column_or_1d(y, warn=True)\n"
          ]
        },
        {
          "output_type": "execute_result",
          "data": {
            "text/plain": [
              "LogisticRegression(C=1.0, class_weight=None, dual=False, fit_intercept=True,\n",
              "                   intercept_scaling=1, l1_ratio=None, max_iter=100,\n",
              "                   multi_class='auto', n_jobs=None, penalty='l2',\n",
              "                   random_state=17, solver='lbfgs', tol=0.0001, verbose=0,\n",
              "                   warm_start=False)"
            ]
          },
          "metadata": {},
          "execution_count": 8
        }
      ]
    },
    {
      "cell_type": "markdown",
      "metadata": {
        "id": "XxrjNIhFuJl8"
      },
      "source": [
        "Analyze results"
      ]
    },
    {
      "cell_type": "code",
      "metadata": {
        "colab": {
          "base_uri": "https://localhost:8080/"
        },
        "id": "4v365Dq36h98",
        "outputId": "8a49fd93-122e-46eb-e0d5-843ce887d97f"
      },
      "source": [
        "pred = log_reg.predict(test_data)\n",
        "conf = sklearn.metrics.confusion_matrix(test_target, pred)\n",
        "print(\"Silicate Regressor:\")\n",
        "print(conf)\n",
        "\n",
        "print(\"\\nClassification report:\")\n",
        "print(sklearn.metrics.classification_report(test_target, pred, target_names=(\"Open ocean\", \"Estuary\")))\n",
        "\n",
        "print(\"\\nF1 score of the model:\")\n",
        "print(sklearn.metrics.f1_score(test_target, pred))"
      ],
      "execution_count": null,
      "outputs": [
        {
          "output_type": "stream",
          "name": "stdout",
          "text": [
            "Silicate Regressor:\n",
            "[[3043    0]\n",
            " [1788    0]]\n",
            "\n",
            "Classification report:\n",
            "              precision    recall  f1-score   support\n",
            "\n",
            "  Open ocean       0.63      1.00      0.77      3043\n",
            "     Estuary       0.00      0.00      0.00      1788\n",
            "\n",
            "    accuracy                           0.63      4831\n",
            "   macro avg       0.31      0.50      0.39      4831\n",
            "weighted avg       0.40      0.63      0.49      4831\n",
            "\n",
            "\n",
            "F1 score of the model:\n",
            "0.7729235458470917\n"
          ]
        },
        {
          "output_type": "stream",
          "name": "stderr",
          "text": [
            "/usr/local/lib/python3.7/dist-packages/sklearn/metrics/_classification.py:1272: UndefinedMetricWarning: Precision and F-score are ill-defined and being set to 0.0 in labels with no predicted samples. Use `zero_division` parameter to control this behavior.\n",
            "  _warn_prf(average, modifier, msg_start, len(result))\n"
          ]
        }
      ]
    },
    {
      "cell_type": "markdown",
      "metadata": {
        "id": "YQ6tYQVF-KF3"
      },
      "source": [
        "Model cannot classify environment using silicate concentration alone. Additional factors (other nutrients, salinity, flow rate, etc...) may provide better insite but silicate levels at the surface are too similar"
      ]
    }
  ]
}